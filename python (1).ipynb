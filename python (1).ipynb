{
 "cells": [
  {
   "cell_type": "code",
   "execution_count": null,
   "id": "68eaa3e3-3125-4b9a-88fa-f4ad71637138",
   "metadata": {},
   "outputs": [],
   "source": [
    "Assignment\n",
    "1. create consumer class with wealth attribute,\n",
    "earn( )  method that  increments the consumer’s wealth and spend( ) method that decreases wealth."
   ]
  },
  {
   "cell_type": "code",
   "execution_count": 3,
   "id": "477ccc7b-2115-4b7c-915d-dabcb6129d05",
   "metadata": {},
   "outputs": [
    {
     "name": "stdout",
     "output_type": "stream",
     "text": [
      "7300\n"
     ]
    }
   ],
   "source": [
    "class Consumer:\n",
    "    def __init__(self,initial_wealth):\n",
    "        self.wealth=initial_wealth \n",
    "\n",
    "    def earn(self,amt):\n",
    "        if amt>0:\n",
    "            self.wealth+=amt\n",
    "        else:\n",
    "            Error(\"Amt to earn is positive.\")\n",
    "    def spend(self,amt):\n",
    "        if amt>0:\n",
    "            if amt<=self.wealth:\n",
    "                self.wealth_=amt\n",
    "            else:\n",
    "               Error(\"Cannot spend more than current wealth.\")\n",
    "        else:\n",
    "             Error(\"Amt to earn is positive.\")\n",
    "Consumer = Consumer(7000)\n",
    "Consumer.earn(300)\n",
    "Consumer.spend(200)\n",
    "print(Consumer.wealth)"
   ]
  },
  {
   "cell_type": "code",
   "execution_count": null,
   "id": "987b71ee-96d2-41de-bb81-c834d77a7532",
   "metadata": {},
   "outputs": [],
   "source": [
    "\n",
    "Design a python program, where you have to generate random number then using for or while loop iterate three times, \n",
    "take input from user compare with the random number generated .\n",
    "If user guesses number correctly then print message."
   ]
  },
  {
   "cell_type": "code",
   "execution_count": 7,
   "id": "9be7e560-1258-4ed8-8b3e-34f12d1708f1",
   "metadata": {},
   "outputs": [
    {
     "name": "stdout",
     "output_type": "stream",
     "text": [
      "Guess the number between 1 and 10. You have 3 attempts.\n"
     ]
    },
    {
     "name": "stdin",
     "output_type": "stream",
     "text": [
      "Enter your guess:  8\n"
     ]
    },
    {
     "name": "stdout",
     "output_type": "stream",
     "text": [
      "Incorrect guess. Try again.\n"
     ]
    },
    {
     "name": "stdin",
     "output_type": "stream",
     "text": [
      "Enter your guess:  5\n"
     ]
    },
    {
     "name": "stdout",
     "output_type": "stream",
     "text": [
      "Incorrect guess. Try again.\n"
     ]
    },
    {
     "name": "stdin",
     "output_type": "stream",
     "text": [
      "Enter your guess:  9\n"
     ]
    },
    {
     "name": "stdout",
     "output_type": "stream",
     "text": [
      "Incorrect guess. Try again.\n",
      "Out of attempts. The correct number was: 6\n"
     ]
    }
   ],
   "source": [
    "\n",
    "import random\n",
    "random_number = random.randint(1, 10)\n",
    "attempts = 3\n",
    "print(\"Guess the number between 1 and 10. You have 3 attempts.\")\n",
    "\n",
    "while attempts > 0:\n",
    "    user_guess = int(input(\"Enter your guess: \"))\n",
    "    \n",
    "    if user_guess == random_number:\n",
    "        print(\"Congratulations! You guessed the correct number.\")\n",
    "        break;\n",
    "    else:\n",
    "        print(\"Incorrect guess. Try again.\")\n",
    "    \n",
    "    attempts -= 1\n",
    "if attempts == 0:\n",
    "     print(\"Out of attempts. The correct number was:\", random_number)\n",
    "\n"
   ]
  },
  {
   "cell_type": "code",
   "execution_count": null,
   "id": "51490c21-aa14-4f19-84ff-67e45599800c",
   "metadata": {},
   "outputs": [],
   "source": []
  }
 ],
 "metadata": {
  "kernelspec": {
   "display_name": "Python 3 (ipykernel)",
   "language": "python",
   "name": "python3"
  },
  "language_info": {
   "codemirror_mode": {
    "name": "ipython",
    "version": 3
   },
   "file_extension": ".py",
   "mimetype": "text/x-python",
   "name": "python",
   "nbconvert_exporter": "python",
   "pygments_lexer": "ipython3",
   "version": "3.12.4"
  }
 },
 "nbformat": 4,
 "nbformat_minor": 5
}
